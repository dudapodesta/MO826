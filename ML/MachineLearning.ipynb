{
 "cells": [
  {
   "cell_type": "code",
   "execution_count": 1,
   "metadata": {},
   "outputs": [
    {
     "name": "stdout",
     "output_type": "stream",
     "text": [
      "Requirement already satisfied: numpy in /home/adamski/.local/lib/python3.6/site-packages (1.16.4)\n",
      "Requirement already satisfied: pandas in /home/adamski/.local/lib/python3.6/site-packages (0.24.2)\n",
      "Requirement already satisfied: numpy>=1.12.0 in /home/adamski/.local/lib/python3.6/site-packages (from pandas) (1.16.4)\n",
      "Requirement already satisfied: pytz>=2011k in /usr/lib/python3/dist-packages (from pandas) (2018.3)\n",
      "Requirement already satisfied: python-dateutil>=2.5.0 in /usr/lib/python3/dist-packages (from pandas) (2.6.1)\n"
     ]
    }
   ],
   "source": [
    "# Install a pip package in the current Jupyter kernel\n",
    "import sys\n",
    "!{sys.executable} -m pip install numpy\n",
    "!{sys.executable} -m pip install pandas"
   ]
  },
  {
   "cell_type": "code",
   "execution_count": 12,
   "metadata": {
    "scrolled": true
   },
   "outputs": [
    {
     "name": "stdout",
     "output_type": "stream",
     "text": [
      "Original data set has 5637 samples and 30 variables\n",
      "After drop data set has 5637 samples and 28 variables\n"
     ]
    }
   ],
   "source": [
    "import pandas as pd\n",
    "\n",
    "# making data frame from csv file \n",
    "data = pd.read_csv(\"../data/NACC.csv\", index_col =\"NACCID\" )\n",
    "\n",
    "#print number of columns\n",
    "print(\"Original data set has %d samples and %d variables\" %(data.shape[0], data.shape[1]))\n",
    "  \n",
    "# dropping passed columns \n",
    "data.drop([\"NACCMOD\", \"NACCYOD\"], axis = 1, inplace = True) \n",
    "\n",
    "#print number of columns\n",
    "print(\"After drop data set has %d samples and %d variables\" %(data.shape[0], data.shape[1]))\n",
    "\n",
    "# display \n",
    "#data "
   ]
  },
  {
   "cell_type": "code",
   "execution_count": null,
   "metadata": {},
   "outputs": [],
   "source": []
  }
 ],
 "metadata": {
  "kernelspec": {
   "display_name": "Python 3",
   "language": "python",
   "name": "python3"
  },
  "language_info": {
   "codemirror_mode": {
    "name": "ipython",
    "version": 3
   },
   "file_extension": ".py",
   "mimetype": "text/x-python",
   "name": "python",
   "nbconvert_exporter": "python",
   "pygments_lexer": "ipython3",
   "version": "3.6.7"
  }
 },
 "nbformat": 4,
 "nbformat_minor": 2
}
