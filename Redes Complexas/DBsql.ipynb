{
 "cells": [
  {
   "cell_type": "code",
   "execution_count": 1,
   "metadata": {},
   "outputs": [],
   "source": [
    "%defaultDatasource jdbc:h2:mem:db"
   ]
  },
  {
   "cell_type": "code",
   "execution_count": 4,
   "metadata": {
    "scrolled": true
   },
   "outputs": [
    {
     "data": {
      "application/vnd.jupyter.widget-view+json": {
       "model_id": "ff49fc99-f8f7-426a-a51d-37e504240b39",
       "version_major": 2,
       "version_minor": 0
      },
      "method": "display_data"
     },
     "metadata": {},
     "output_type": "display_data"
    }
   ],
   "source": [
    "DROP TABLE IF EXISTS Alzheimer;\n",
    "CREATE TABLE Alzheimer (\n",
    "  NACCID VARCHAR(10),\n",
    "  NACCYOD INTEGER,\n",
    "  NACCBRAA SMALLINT,\n",
    "  NACCNEUR SMALLINT,    \n",
    "  PRIMARY KEY(NACCID)\n",
    ") AS SELECT\n",
    "  NACCID, NACCYOD,NACCBRAA, NACCNEUR\n",
    "FROM CSVREAD('../data/nRedAlzheimer.csv');\n",
    "\n",
    "SELECT * FROM Alzheimer LIMIT 10;"
   ]
  },
  {
   "cell_type": "code",
   "execution_count": null,
   "metadata": {},
   "outputs": [],
   "source": [
    "crear matrix"
   ]
  },
  {
   "cell_type": "code",
   "execution_count": 5,
   "metadata": {},
   "outputs": [],
   "source": [
    "DROP VIEW AlzheimerB IF EXISTS;\n",
    "\n",
    "\n",
    "CREATE VIEW AlzheimerB AS\n",
    "SELECT NACCID NACCIDB,NACCYOD AS NACCYODB, NACCBRAA NACCBRAAB,NACCNEUR AS NACCNEURB \n",
    "FROM Alzheimer;\n"
   ]
  },
  {
   "cell_type": "code",
   "execution_count": 10,
   "metadata": {},
   "outputs": [],
   "source": [
    "DROP VIEW vConsulta IF EXISTS;\n",
    "\n",
    "CREATE VIEW vConsulta AS\n",
    "SELECT A1.NACCBRAA p1, A2.NACCBRAAB p2\n",
    "FROM Alzheimer A1, AlzheimerB A2\n",
    "WHERE A1.NACCID = A2.NACCIDB AND A1.NACCBRAA > A2.NACCBRAAB;\n",
    "\n"
   ]
  },
  {
   "cell_type": "code",
   "execution_count": 8,
   "metadata": {},
   "outputs": [],
   "source": [
    "SELECT a.NACCID, b.NACCIDB\n",
    "FROM Alzheimer a join AlzheimerB b on a.NACCID=b.NACCIDB\n",
    "WHERE a.NACCBRAA=b.NACCBRAAB AND a.NACCID > b.NACCIDB\n",
    "LIMIT 10;"
   ]
  },
  {
   "cell_type": "code",
   "execution_count": null,
   "metadata": {},
   "outputs": [],
   "source": []
  }
 ],
 "metadata": {
  "kernelspec": {
   "display_name": "SQL",
   "language": "SQL",
   "name": "sql"
  },
  "language_info": {
   "codemirror_mode": "sql",
   "file_extension": ".sql",
   "mimetype": "",
   "name": "SQL",
   "nbconverter_exporter": "",
   "version": ""
  },
  "toc": {
   "base_numbering": 1,
   "nav_menu": {},
   "number_sections": false,
   "sideBar": false,
   "skip_h1_title": false,
   "title_cell": "Table of Contents",
   "title_sidebar": "Contents",
   "toc_cell": false,
   "toc_position": {},
   "toc_section_display": false,
   "toc_window_display": false
  }
 },
 "nbformat": 4,
 "nbformat_minor": 2
}
