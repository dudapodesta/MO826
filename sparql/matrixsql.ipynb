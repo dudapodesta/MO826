{
 "cells": [
  {
   "cell_type": "code",
   "execution_count": 1,
   "metadata": {},
   "outputs": [],
   "source": [
    "%defaultDatasource jdbc:h2:mem:db"
   ]
  },
  {
   "cell_type": "code",
   "execution_count": 3,
   "metadata": {
    "scrolled": true
   },
   "outputs": [
    {
     "data": {
      "application/vnd.jupyter.widget-view+json": {
       "model_id": "4530cd64-9f65-4de5-b2b7-0a7e09e9081d",
       "version_major": 2,
       "version_minor": 0
      },
      "method": "display_data"
     },
     "metadata": {},
     "output_type": "display_data"
    }
   ],
   "source": [
    "DROP TABLE IF EXISTS Alzheimer;\n",
    "CREATE TABLE Alzheimer (\n",
    "  NACCID VARCHAR(10),\n",
    "  NACCBRAA SMALLINT,\n",
    "  PRIMARY KEY(NACCID)\n",
    ") AS SELECT\n",
    "  NACCID, NACCBRAA\n",
    "FROM CSVREAD('../data/RedestoAlzheimer.csv');\n",
    "\n",
    "SELECT * FROM Alzheimer LIMIT 20;"
   ]
  },
  {
   "cell_type": "code",
   "execution_count": null,
   "metadata": {},
   "outputs": [],
   "source": [
    "crear matrix"
   ]
  },
  {
   "cell_type": "code",
   "execution_count": 9,
   "metadata": {},
   "outputs": [
    {
     "ename": "org.h2.jdbc.JdbcSQLException",
     "evalue": " Cannot drop \"ALZHEIMERB\" because \"PCONJUNTO\" depends on it; SQL statement",
     "output_type": "error",
     "traceback": [
      "\u001b[1;31morg.h2.jdbc.JdbcSQLException: Cannot drop \"ALZHEIMERB\" because \"PCONJUNTO\" depends on it; SQL statement:\u001b[0;0m",
      "\u001b[1;31mDROP VIEW AlzheimerB IF EXISTS [90107-197]\u001b[0;0m"
     ]
    }
   ],
   "source": [
    "DROP VIEW AlzheimerB IF EXISTS;\n",
    "\n",
    "\n",
    "CREATE VIEW AlzheimerB AS\n",
    "SELECT NACCID NACCIDB, NACCBRAA NACCBRAAB\n",
    "FROM Alzheimer;\n"
   ]
  },
  {
   "cell_type": "code",
   "execution_count": 10,
   "metadata": {},
   "outputs": [],
   "source": [
    "DROP VIEW pConjunto IF EXISTS;\n",
    "\n",
    "CREATE VIEW pConjunto AS\n",
    "SELECT A1.NACCBRAA p1, A2.NACCBRAAB p2\n",
    "FROM Alzheimer A1, AlzheimerB A2\n",
    "WHERE A1.NACCID = A2.NACCIDB AND A1.NACCBRAA > A2.NACCBRAAB;\n",
    "\n",
    "SELECT * FROM pConjunto;"
   ]
  },
  {
   "cell_type": "code",
   "execution_count": null,
   "metadata": {},
   "outputs": [],
   "source": []
  }
 ],
 "metadata": {
  "kernelspec": {
   "display_name": "SQL",
   "language": "SQL",
   "name": "sql"
  },
  "language_info": {
   "codemirror_mode": "sql",
   "file_extension": ".sql",
   "mimetype": "",
   "name": "SQL",
   "nbconverter_exporter": "",
   "version": ""
  },
  "toc": {
   "base_numbering": 1,
   "nav_menu": {},
   "number_sections": false,
   "sideBar": false,
   "skip_h1_title": false,
   "title_cell": "Table of Contents",
   "title_sidebar": "Contents",
   "toc_cell": false,
   "toc_position": {},
   "toc_section_display": false,
   "toc_window_display": false
  }
 },
 "nbformat": 4,
 "nbformat_minor": 2
}
